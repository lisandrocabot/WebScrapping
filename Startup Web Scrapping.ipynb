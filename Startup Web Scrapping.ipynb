{
 "cells": [
  {
   "cell_type": "markdown",
   "metadata": {},
   "source": [
    "# SeedTable web scrapping for startups mapping"
   ]
  },
  {
   "cell_type": "markdown",
   "metadata": {},
   "source": [
    "### CLIENT: \n",
    "Plyo Lab: Company that asses Startups finding opportunities and unfolding them into successful companies.\n",
    "\n",
    "### GOAL: \n",
    "Obtain a list of european startups that might be potencial clients and contact them.  \n",
    "\n",
    "### PROJECT: \n",
    "Create a spider to crawl SeedTable.com website and obtain and fill an XLS file with the list of startups and their information. In this case, I obtain the list of Spanish startups, but by changing the link that will be scrapped, it can be used for every country presented in the website.     "
   ]
  },
  {
   "cell_type": "markdown",
   "metadata": {},
   "source": [
    "#### Process:\n",
    "\n",
    "1) I created the code for the spider. \n",
    "\n",
    "2) I downloaded the code as a .py file.\n",
    "\n",
    "3) I used windows console to run the script, which did the web scrapping and created a CSV file with the data.\n",
    "   \n",
    "   Command used in console: scrapy runspider Startup_Web_Scrapping.py -o Startups-Spain.csv -t csv\n",
    "\n",
    "4) I transformed the csv file to an XLS file so that the client would have the data in a better looking way. "
   ]
  },
  {
   "cell_type": "code",
   "execution_count": null,
   "metadata": {},
   "outputs": [],
   "source": [
    "__author__ = \"Lisandro\"\n",
    "\n",
    "from scrapy.item import Field\n",
    "from scrapy.item import Item\n",
    "from scrapy.spiders import Spider\n",
    "from scrapy.selector import Selector\n",
    "from scrapy.loader import ItemLoader\n",
    "\n",
    "\n",
    "#Problem: Extract information from SeedTable: Startups.\n",
    "\n",
    "class Startup(Item):\n",
    "    id = Field()\n",
    "    company = Field()\n",
    "    website = Field()\n",
    "    description = Field()\n",
    "    city = Field()\n",
    "    size = Field()\n",
    "    sales = Field()\n",
    "    linkedin = Field()\n",
    "        \n",
    "    \n",
    "class StartupSpider(Spider):\n",
    "    name = 'Startups-Spain'\n",
    "    start_urls = ['https://www.seedtable.com/startups-spain']\n",
    "    def parse(self, response):\n",
    "        sel = Selector(response)\n",
    "        startups = sel.xpath('/html/body/div[3]/div')\n",
    "    \n",
    "        # Iterate over all the companies\n",
    "        for i, elem in enumerate(startups):\n",
    "            item = ItemLoader(Startup(), elem)\n",
    "            item.add_value('id', i)\n",
    "            item.add_xpath('company','.//div/div/div/h5/a/text()')  \n",
    "            item.add_xpath('website','.//div/div/div/h5/a')\n",
    "            item.add_xpath('description','.//div/div/div/p[1]/text()')  \n",
    "            item.add_xpath('city','.//div/div/div/p[2]/span[1]/text()')\n",
    "            item.add_xpath('size','.//div/div/div/p[2]/span[2]/text()')\n",
    "            item.add_xpath('sales','.//div/div/div/p[2]/span[3]/text()') \n",
    "            item.add_xpath('linkedin','.//div/div/div/p[2]/a')\n",
    "            yield item.load_item()\n",
    "            \n"
   ]
  },
  {
   "cell_type": "code",
   "execution_count": null,
   "metadata": {},
   "outputs": [],
   "source": [
    "import pandas as pd\n",
    "df = pd.read_csv(\"Startups-Spain.csv\")\n",
    "df.to_excel(\"Startups-Spain.xls\")"
   ]
  }
 ],
 "metadata": {
  "kernelspec": {
   "display_name": "Python 3",
   "language": "python",
   "name": "python3"
  },
  "language_info": {
   "codemirror_mode": {
    "name": "ipython",
    "version": 3
   },
   "file_extension": ".py",
   "mimetype": "text/x-python",
   "name": "python",
   "nbconvert_exporter": "python",
   "pygments_lexer": "ipython3",
   "version": "3.7.3"
  }
 },
 "nbformat": 4,
 "nbformat_minor": 2
}
